{
 "cells": [
  {
   "cell_type": "code",
   "execution_count": 1,
   "metadata": {},
   "outputs": [],
   "source": [
    "import numpy as np"
   ]
  },
  {
   "cell_type": "code",
   "execution_count": 2,
   "metadata": {},
   "outputs": [],
   "source": [
    "X_test = np.load(\"X_test.npy\")\n",
    "y_test = np.load(\"y_test.npy\")\n",
    "person_train_valid = np.load(\"person_train_valid.npy\")\n",
    "X_train_valid = np.load(\"X_train_valid.npy\")\n",
    "y_train_valid = np.load(\"y_train_valid.npy\")\n",
    "person_test = np.load(\"person_test.npy\")\n"
   ]
  },
  {
   "cell_type": "markdown",
   "metadata": {},
   "source": [
    "### Shape of data"
   ]
  },
  {
   "cell_type": "code",
   "execution_count": 3,
   "metadata": {},
   "outputs": [
    {
     "name": "stdout",
     "output_type": "stream",
     "text": [
      "Training/Valid data shape: (2115, 22, 1000)\n",
      "Test data shape: (443, 22, 1000)\n",
      "Training/Valid target shape: (2115,)\n",
      "Test target shape: (443,)\n",
      "Person train/valid shape: (2115, 1)\n",
      "Person test shape: (443, 1)\n"
     ]
    }
   ],
   "source": [
    "print ('Training/Valid data shape: {}'.format(X_train_valid.shape))\n",
    "print ('Test data shape: {}'.format(X_test.shape))\n",
    "print ('Training/Valid target shape: {}'.format(y_train_valid.shape))\n",
    "print ('Test target shape: {}'.format(y_test.shape))\n",
    "print ('Person train/valid shape: {}'.format(person_train_valid.shape))\n",
    "print ('Person test shape: {}'.format(person_test.shape))\n"
   ]
  },
  {
   "cell_type": "markdown",
   "metadata": {},
   "source": [
    "### Three layer CNN"
   ]
  },
  {
   "cell_type": "code",
   "execution_count": 4,
   "metadata": {},
   "outputs": [],
   "source": [
    "import matplotlib.pyplot as plt\n",
    "from train import Solver\n",
    "from BasicCNN import *"
   ]
  },
  {
   "cell_type": "code",
   "execution_count": 5,
   "metadata": {},
   "outputs": [],
   "source": [
    "num_training = 2115\n",
    "num_validation = 443\n",
    "num_test = 443\n",
    "\n",
    "# Subsample the data\n",
    "mask = list(range(num_training - num_validation, num_training))\n",
    "X_val = X_train_valid[mask]\n",
    "y_val = y_train_valid[mask]\n",
    "mask = list(range(num_training - num_validation))\n",
    "X_train = X_train_valid[mask]\n",
    "y_train = y_train_valid[mask]\n",
    "mask = list(range(num_test))\n",
    "X_test = X_test[mask]\n",
    "y_test = y_test[mask]\n",
    "\n",
    "\n",
    "#X_train = X_train.transpose(1, 0 ,2).copy()\n",
    "#X_val = X_val.transpose(1, 0 ,2).copy()\n",
    "\n",
    "y_train = y_train - 769\n",
    "y_val = y_val - 769\n",
    "\n",
    "\n",
    "data = {\n",
    "  'X_train': torch.from_numpy(X_train),\n",
    "  'y_train': torch.from_numpy(y_train),\n",
    "  'X_val': torch.from_numpy(X_val),\n",
    "  'y_val': torch.from_numpy(y_val),\n",
    "}"
   ]
  },
  {
   "cell_type": "markdown",
   "metadata": {},
   "source": [
    "# Train Data"
   ]
  },
  {
   "cell_type": "code",
   "execution_count": 6,
   "metadata": {},
   "outputs": [
    {
     "name": "stdout",
     "output_type": "stream",
     "text": [
      "Epoch [1/20], Step [5/16], Loss: 1.6217, Accuracy: 25.72%\n",
      "Epoch [1/20], Step [10/16], Loss: 1.4548, Accuracy: 25.96%\n",
      "Epoch [1/20], Step [15/16], Loss: 1.4211, Accuracy: 25.84%\n",
      "Epoch [2/20], Step [5/16], Loss: 1.3854, Accuracy: 28.53%\n",
      "Epoch [2/20], Step [10/16], Loss: 1.3690, Accuracy: 30.14%\n",
      "Epoch [2/20], Step [15/16], Loss: 1.3436, Accuracy: 33.43%\n",
      "Epoch [3/20], Step [5/16], Loss: 1.3333, Accuracy: 36.36%\n",
      "Epoch [3/20], Step [10/16], Loss: 1.3216, Accuracy: 35.59%\n",
      "Epoch [3/20], Step [15/16], Loss: 1.3062, Accuracy: 38.52%\n",
      "Epoch [4/20], Step [5/16], Loss: 1.2505, Accuracy: 42.88%\n",
      "Epoch [4/20], Step [10/16], Loss: 1.2496, Accuracy: 40.91%\n",
      "Epoch [4/20], Step [15/16], Loss: 1.2274, Accuracy: 43.36%\n",
      "Epoch [5/20], Step [5/16], Loss: 1.1971, Accuracy: 45.75%\n",
      "Epoch [5/20], Step [10/16], Loss: 1.1892, Accuracy: 45.99%\n",
      "Epoch [5/20], Step [15/16], Loss: 1.1671, Accuracy: 45.39%\n",
      "Epoch [6/20], Step [5/16], Loss: 1.1186, Accuracy: 48.33%\n",
      "Epoch [6/20], Step [10/16], Loss: 1.1146, Accuracy: 49.10%\n",
      "Epoch [6/20], Step [15/16], Loss: 1.1101, Accuracy: 49.64%\n",
      "Epoch [7/20], Step [5/16], Loss: 1.0786, Accuracy: 52.45%\n",
      "Epoch [7/20], Step [10/16], Loss: 1.0361, Accuracy: 52.51%\n",
      "Epoch [7/20], Step [15/16], Loss: 1.0509, Accuracy: 51.97%\n",
      "Epoch [8/20], Step [5/16], Loss: 1.0207, Accuracy: 55.44%\n",
      "Epoch [8/20], Step [10/16], Loss: 1.0010, Accuracy: 55.62%\n",
      "Epoch [8/20], Step [15/16], Loss: 1.0202, Accuracy: 55.44%\n",
      "Epoch [9/20], Step [5/16], Loss: 0.9710, Accuracy: 58.01%\n",
      "Epoch [9/20], Step [10/16], Loss: 0.9711, Accuracy: 58.07%\n",
      "Epoch [9/20], Step [15/16], Loss: 0.9566, Accuracy: 58.37%\n",
      "Epoch [10/20], Step [5/16], Loss: 0.9325, Accuracy: 59.99%\n",
      "Epoch [10/20], Step [10/16], Loss: 0.8808, Accuracy: 62.86%\n",
      "Epoch [10/20], Step [15/16], Loss: 0.8632, Accuracy: 64.06%\n",
      "Epoch [11/20], Step [5/16], Loss: 0.8639, Accuracy: 63.64%\n",
      "Epoch [11/20], Step [10/16], Loss: 0.8407, Accuracy: 64.83%\n",
      "Epoch [11/20], Step [15/16], Loss: 0.8404, Accuracy: 65.31%\n",
      "Epoch [12/20], Step [5/16], Loss: 0.7854, Accuracy: 67.40%\n",
      "Epoch [12/20], Step [10/16], Loss: 0.7826, Accuracy: 67.34%\n",
      "Epoch [12/20], Step [15/16], Loss: 0.7653, Accuracy: 68.24%\n",
      "Epoch [13/20], Step [5/16], Loss: 0.7266, Accuracy: 71.29%\n",
      "Epoch [13/20], Step [10/16], Loss: 0.6852, Accuracy: 72.85%\n",
      "Epoch [13/20], Step [15/16], Loss: 0.7624, Accuracy: 69.62%\n",
      "Epoch [14/20], Step [5/16], Loss: 0.7400, Accuracy: 68.96%\n",
      "Epoch [14/20], Step [10/16], Loss: 0.7070, Accuracy: 73.50%\n",
      "Epoch [14/20], Step [15/16], Loss: 0.6832, Accuracy: 72.49%\n",
      "Epoch [15/20], Step [5/16], Loss: 0.6768, Accuracy: 73.50%\n",
      "Epoch [15/20], Step [10/16], Loss: 0.6668, Accuracy: 73.03%\n",
      "Epoch [15/20], Step [15/16], Loss: 0.6200, Accuracy: 76.56%\n",
      "Epoch [16/20], Step [5/16], Loss: 0.5742, Accuracy: 78.23%\n",
      "Epoch [16/20], Step [10/16], Loss: 0.5825, Accuracy: 77.69%\n",
      "Epoch [16/20], Step [15/16], Loss: 0.5643, Accuracy: 77.93%\n",
      "Epoch [17/20], Step [5/16], Loss: 0.5277, Accuracy: 78.95%\n",
      "Epoch [17/20], Step [10/16], Loss: 0.5853, Accuracy: 76.14%\n",
      "Epoch [17/20], Step [15/16], Loss: 0.5390, Accuracy: 78.53%\n",
      "Epoch [18/20], Step [5/16], Loss: 0.5064, Accuracy: 79.90%\n",
      "Epoch [18/20], Step [10/16], Loss: 0.4987, Accuracy: 79.61%\n",
      "Epoch [18/20], Step [15/16], Loss: 0.4800, Accuracy: 81.82%\n",
      "Epoch [19/20], Step [5/16], Loss: 0.4449, Accuracy: 83.49%\n",
      "Epoch [19/20], Step [10/16], Loss: 0.6003, Accuracy: 76.20%\n",
      "Epoch [19/20], Step [15/16], Loss: 0.6699, Accuracy: 74.64%\n",
      "Epoch [20/20], Step [5/16], Loss: 0.5669, Accuracy: 77.69%\n",
      "Epoch [20/20], Step [10/16], Loss: 0.5071, Accuracy: 79.37%\n",
      "Epoch [20/20], Step [15/16], Loss: 0.5005, Accuracy: 79.43%\n"
     ]
    }
   ],
   "source": [
    "solver = Solver(data, num_epochs=20, learning_rate= 1e-3)\n",
    "\n",
    "solver.train()"
   ]
  },
  {
   "cell_type": "markdown",
   "metadata": {},
   "source": [
    "# Plot accuracy history"
   ]
  },
  {
   "cell_type": "code",
   "execution_count": 7,
   "metadata": {},
   "outputs": [
    {
     "data": {
      "image/png": "[encoded data removed]",
      "text/plain": [
       "<Figure size 432x288 with 2 Axes>"
      ]
     },
     "metadata": {
      "needs_background": "light"
     },
     "output_type": "display_data"
    }
   ],
   "source": [
    "plt.subplot(2, 1, 1)\n",
    "plt.plot(solver.loss_list, 'o')\n",
    "plt.xlabel('iteration')\n",
    "plt.ylabel('loss')\n",
    "\n",
    "plt.subplot(2, 1, 2)\n",
    "plt.plot(solver.train_acc_list, '-o')\n",
    "plt.plot(solver.val_acc_list, '-o')\n",
    "plt.legend(['train', 'val'], loc='lower right')\n",
    "plt.xlabel('epoch')\n",
    "plt.ylabel('accuracy')\n",
    "plt.show()"
   ]
  },
  {
   "cell_type": "code",
   "execution_count": 8,
   "metadata": {},
   "outputs": [
    {
     "name": "stdout",
     "output_type": "stream",
     "text": [
      "0.5620767494356659\n"
     ]
    }
   ],
   "source": [
    "print(np.max(solver.val_acc_list))"
   ]
  },
  {
   "cell_type": "code",
   "execution_count": null,
   "metadata": {},
   "outputs": [],
   "source": []
  }
 ],
 "metadata": {
  "@webio": {
   "lastCommId": null,
   "lastKernelId": null
  },
  "kernelspec": {
   "display_name": "Python 3",
   "language": "python",
   "name": "python3"
  },
  "language_info": {
   "codemirror_mode": {
    "name": "ipython",
    "version": 3
   },
   "file_extension": ".py",
   "mimetype": "text/x-python",
   "name": "python",
   "nbconvert_exporter": "python",
   "pygments_lexer": "ipython3",
   "version": "3.9.1"
  }
 },
 "nbformat": 4,
 "nbformat_minor": 2
}
